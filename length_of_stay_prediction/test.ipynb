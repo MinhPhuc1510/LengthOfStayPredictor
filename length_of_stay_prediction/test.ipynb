{
 "cells": [
  {
   "cell_type": "code",
   "execution_count": null,
   "metadata": {},
   "outputs": [],
   "source": [
    "import pandas as pd"
   ]
  },
  {
   "cell_type": "code",
   "execution_count": 23,
   "metadata": {},
   "outputs": [],
   "source": [
    "data = {\n",
    "    \"DIAGNOSIS\": [\"blood\", \"infectious\"],\n",
    "    \"GENDER\": \"M\",\n",
    "    \"ADMISSION_TYPE\": \"EMERGENCY\",\n",
    "    \"INSURANCE\": \"Medicare\",\n",
    "    \"RELIGION\": \"RELIGIOUS\",\n",
    "    \"ETHNICITY\": \"WHITE\",\n",
    "    \"MARITAL_STATUS\": \"MARRIED\",\n",
    "    \"AGE\": 72,  # Assuming age is given as a number\n",
    "    \"FIRST_CAREUNIT\": \"ICU\"  # Example unit like \"Cardiac Care Unit\"\n",
    "}\n",
    "\n",
    "# Create a pandas Series from the dictionary\n",
    "X = pd.Series(data)"
   ]
  },
  {
   "cell_type": "code",
   "execution_count": 63,
   "metadata": {},
   "outputs": [
    {
     "name": "stdout",
     "output_type": "stream",
     "text": [
      "Model loaded from prediction_app\\checkpoints\\tabular_best_pipe_MinMaxScaler-PCA-Normalization-RandomForestClassifier.bin\n"
     ]
    }
   ],
   "source": [
    "import importlib\n",
    "import prediction_app.prediction_model.ml_model as ml_model\n",
    "importlib.reload(ml_model)\n",
    "model_path = r\"prediction_app\\checkpoints\\tabular_best_pipe_MinMaxScaler-PCA-Normalization-RandomForestClassifier.bin\"\n",
    "model = ml_model.LosModel().load_model(model_path)\n",
    "\n"
   ]
  },
  {
   "cell_type": "code",
   "execution_count": 64,
   "metadata": {},
   "outputs": [
    {
     "name": "stderr",
     "output_type": "stream",
     "text": [
      "c:\\Users\\Hieu.Ngo\\AppData\\Local\\Programs\\Python\\Python311\\Lib\\site-packages\\sklearn\\preprocessing\\_label.py:900: UserWarning: unknown class(es) ['C', 'I', 'U'] will be ignored\n",
      "  warnings.warn(\n",
      "c:\\Users\\Hieu.Ngo\\AppData\\Local\\Programs\\Python\\Python311\\Lib\\site-packages\\sklearn\\base.py:493: UserWarning: X does not have valid feature names, but MinMaxScaler was fitted with feature names\n",
      "  warnings.warn(\n"
     ]
    },
    {
     "data": {
      "text/plain": [
       "array([1])"
      ]
     },
     "execution_count": 64,
     "metadata": {},
     "output_type": "execute_result"
    }
   ],
   "source": [
    "model.predict(X)"
   ]
  },
  {
   "cell_type": "code",
   "execution_count": null,
   "metadata": {},
   "outputs": [],
   "source": []
  }
 ],
 "metadata": {
  "kernelspec": {
   "display_name": "Python 3",
   "language": "python",
   "name": "python3"
  },
  "language_info": {
   "codemirror_mode": {
    "name": "ipython",
    "version": 3
   },
   "file_extension": ".py",
   "mimetype": "text/x-python",
   "name": "python",
   "nbconvert_exporter": "python",
   "pygments_lexer": "ipython3",
   "version": "3.11.6"
  }
 },
 "nbformat": 4,
 "nbformat_minor": 2
}
